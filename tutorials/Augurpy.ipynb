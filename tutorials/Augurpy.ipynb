{
 "cells": [
  {
   "cell_type": "markdown",
   "metadata": {},
   "source": [
    "# Augurpy\n",
    "\n",
    "This is a short tutorial demonstrating augurpy, the python implementation of [Augur R package](https://github.com/neurorestore/Augur) based on Skinnider, M.A., Squair, J.W., Kathe, C. et al. [Cell type prioritization in single-cell data](https://doi.org/10.1038/s41587-020-0605-1). Nat Biotechnol 39, 30–34 (2021). \n",
    "\n",
    "\n",
    "Augurpy aims to rank or prioritize cell types according to the their response to experimental perturbations given high dimensional single-cell sequencing data. The basic idea is that in the space of molecular measurements cells reacting heavily to induced perturbations are more easily seperated into perturbed and unperturbed than cell types with little or no response. This seperability is quantified by measuring how well experimental labels (eg. treatment and control) can be predicted within each cell type. Augurpy trains a machine learning model predicting experimental labels for each cell type in multiple cross validation runs and then prioritizes cell type response according to metric scores measuring the accuracy of the model. For categorical data the area under the curve is the default metric and for numerical data the concordance correlation coefficient is used as a proxy for how accurate the model is which in turn approximates perturbation response. \n",
    "\n",
    "The following tutorial runs through a simple analysis with augurpy using a simulated dataset. This dataset consists of 600 cells, distributed evenly between three populations (cell types A, B, and C). Each of these cell types has approximately half of its cells in one of two conditions, treatment and control. The cell types also have different numbers of genes differentially expressed in response to the treatment. Cell type A has approximately 5% of genes DE in response to the treatment, while cell type B has 25% of its genes DE and cell type C has 50% of genes DE. "
   ]
  },
  {
   "cell_type": "code",
   "execution_count": 1,
   "metadata": {},
   "outputs": [],
   "source": [
    "import warnings\n",
    "warnings.filterwarnings('ignore')"
   ]
  },
  {
   "cell_type": "code",
   "execution_count": 2,
   "metadata": {},
   "outputs": [],
   "source": [
    "import scanpy as sc\n",
    "import augurpy.read_load, augurpy.estimator, augurpy.evaluate \n",
    "import augurpy.plotting.lollipop\n",
    "import augurpy.plotting.scatterplot\n",
    "import augurpy.plotting.differential_prioritization"
   ]
  },
  {
   "cell_type": "markdown",
   "metadata": {},
   "source": [
    "First we import the data that we want to work with. This can either be an anndata object, a dataframe containing cell type labels as well as conditions for each cell or data contained in a dataframe with corresponding meta data containing cell type labels and conditions. Here we use scanpy to read the simulated sample anndata set contained in augurpy. Then we load this data into an anndata object adding dummie variables of labels, highly variable genes and standardizing cell type and label observation columns. "
   ]
  },
  {
   "cell_type": "code",
   "execution_count": 3,
   "metadata": {},
   "outputs": [],
   "source": [
    "# import sample simulation data\n",
    "adata = sc.read_h5ad(\"../tests/sc_sim.h5ad\")\n",
    "\n",
    "loaded_data = augurpy.read_load.load(adata)"
   ]
  },
  {
   "cell_type": "code",
   "execution_count": 4,
   "metadata": {
    "scrolled": true
   },
   "outputs": [
    {
     "data": {
      "text/plain": [
       "AnnData object with n_obs × n_vars = 600 × 15697\n",
       "    obs: 'label', 'cell_type', 'y_'\n",
       "    var: 'name', 'highly_variable', 'means', 'dispersions', 'dispersions_norm'\n",
       "    uns: 'hvg'"
      ]
     },
     "execution_count": 4,
     "metadata": {},
     "output_type": "execute_result"
    }
   ],
   "source": [
    "loaded_data"
   ]
  },
  {
   "cell_type": "markdown",
   "metadata": {},
   "source": [
    "Next we choose the estimator used to measure how predictable the perturbation labels for each cell type in the dataset are. Choose `random_forest_classifier` or `logistic_regression_classifier` for categorical data and `random_forest_regressor` for numerical data. "
   ]
  },
  {
   "cell_type": "code",
   "execution_count": 5,
   "metadata": {},
   "outputs": [],
   "source": [
    "random_forest = augurpy.estimator.create_estimator(\"random_forest_classifier\",\n",
    "                                                   augurpy.estimator.Params(random_state=42))"
   ]
  },
  {
   "cell_type": "markdown",
   "metadata": {},
   "source": [
    "Then we run augurpy with the function `predict` and look at the results. "
   ]
  },
  {
   "cell_type": "code",
   "execution_count": 6,
   "metadata": {
    "scrolled": true
   },
   "outputs": [
    {
     "data": {
      "application/vnd.jupyter.widget-view+json": {
       "model_id": "6fe790795ffd44ad804da02717df8acb",
       "version_major": 2,
       "version_minor": 0
      },
      "text/plain": [
       "Output()"
      ]
     },
     "metadata": {},
     "output_type": "display_data"
    },
    {
     "data": {
      "text/html": [
       "<pre style=\"white-space:pre;overflow-x:auto;line-height:normal;font-family:Menlo,'DejaVu Sans Mono',consolas,'Courier New',monospace\"></pre>\n"
      ],
      "text/plain": []
     },
     "metadata": {},
     "output_type": "display_data"
    },
    {
     "data": {
      "text/html": [
       "<pre style=\"white-space:pre;overflow-x:auto;line-height:normal;font-family:Menlo,'DejaVu Sans Mono',consolas,'Courier New',monospace\">\n",
       "</pre>\n"
      ],
      "text/plain": [
       "\n"
      ]
     },
     "metadata": {},
     "output_type": "display_data"
    },
    {
     "name": "stdout",
     "output_type": "stream",
     "text": [
      "                  CellTypeA  CellTypeB  CellTypeC\n",
      "mean_augur_score   0.678503   0.908673    0.98754\n",
      "mean_auc           0.678503   0.908673    0.98754\n",
      "mean_accuracy      0.598791   0.794982    0.91696\n",
      "mean_precision     0.598791   0.794982    0.91696\n",
      "mean_f1            0.598791   0.794982    0.91696\n",
      "mean_recall        0.598791   0.794982    0.91696\n"
     ]
    }
   ],
   "source": [
    "result_adata, results = augurpy.evaluate.predict(loaded_data, random_forest, random_state=42)\n",
    "\n",
    "print(results['summary_metrics'])"
   ]
  },
  {
   "cell_type": "code",
   "execution_count": 7,
   "metadata": {
    "scrolled": true
   },
   "outputs": [
    {
     "data": {
      "image/png": "[encoded data removed]",
      "text/plain": [
       "<Figure size 432x288 with 1 Axes>"
      ]
     },
     "metadata": {
      "needs_background": "light"
     },
     "output_type": "display_data"
    }
   ],
   "source": [
    "augurpy.plotting.lollipop.plot_lollipop(results)"
   ]
  },
  {
   "cell_type": "markdown",
   "metadata": {},
   "source": [
    "The corresponding `mean_augur_score` is also saved in `result_adata.obs`. The feature importances can be found in `results['feature_importances']` and used for further analysis. "
   ]
  },
  {
   "cell_type": "markdown",
   "metadata": {},
   "source": [
    "### Feature Importances\n",
    "\n",
    "In the case of a random forest estimator the feature importances built into sci-kit learn were used as feature importances. For the logistic regression the agresti method was used (as in the R library Augur). This means the mean was subtracted from the coefficient values and then divided by the standard deviation. (See [blog post](https://think-lab.github.io/d/205/))"
   ]
  },
  {
   "cell_type": "code",
   "execution_count": 8,
   "metadata": {
    "scrolled": false
   },
   "outputs": [
    {
     "data": {
      "text/html": [
       "<div>\n",
       "<style scoped>\n",
       "    .dataframe tbody tr th:only-of-type {\n",
       "        vertical-align: middle;\n",
       "    }\n",
       "\n",
       "    .dataframe tbody tr th {\n",
       "        vertical-align: top;\n",
       "    }\n",
       "\n",
       "    .dataframe thead th {\n",
       "        text-align: right;\n",
       "    }\n",
       "</style>\n",
       "<table border=\"1\" class=\"dataframe\">\n",
       "  <thead>\n",
       "    <tr style=\"text-align: right;\">\n",
       "      <th></th>\n",
       "      <th>genes</th>\n",
       "      <th>feature_importances</th>\n",
       "      <th>subsample_idx</th>\n",
       "      <th>fold</th>\n",
       "      <th>cell_type</th>\n",
       "    </tr>\n",
       "  </thead>\n",
       "  <tbody>\n",
       "    <tr>\n",
       "      <th>0</th>\n",
       "      <td>Gene7100</td>\n",
       "      <td>0.000000</td>\n",
       "      <td>0</td>\n",
       "      <td>0</td>\n",
       "      <td>CellTypeA</td>\n",
       "    </tr>\n",
       "    <tr>\n",
       "      <th>1</th>\n",
       "      <td>Gene14122</td>\n",
       "      <td>0.000000</td>\n",
       "      <td>0</td>\n",
       "      <td>0</td>\n",
       "      <td>CellTypeA</td>\n",
       "    </tr>\n",
       "    <tr>\n",
       "      <th>2</th>\n",
       "      <td>Gene7758</td>\n",
       "      <td>0.000000</td>\n",
       "      <td>0</td>\n",
       "      <td>0</td>\n",
       "      <td>CellTypeA</td>\n",
       "    </tr>\n",
       "    <tr>\n",
       "      <th>3</th>\n",
       "      <td>Gene719</td>\n",
       "      <td>0.001818</td>\n",
       "      <td>0</td>\n",
       "      <td>0</td>\n",
       "      <td>CellTypeA</td>\n",
       "    </tr>\n",
       "    <tr>\n",
       "      <th>4</th>\n",
       "      <td>Gene4787</td>\n",
       "      <td>0.000000</td>\n",
       "      <td>0</td>\n",
       "      <td>0</td>\n",
       "      <td>CellTypeA</td>\n",
       "    </tr>\n",
       "    <tr>\n",
       "      <th>...</th>\n",
       "      <td>...</td>\n",
       "      <td>...</td>\n",
       "      <td>...</td>\n",
       "      <td>...</td>\n",
       "      <td>...</td>\n",
       "    </tr>\n",
       "    <tr>\n",
       "      <th>773545</th>\n",
       "      <td>Gene11797</td>\n",
       "      <td>0.000000</td>\n",
       "      <td>49</td>\n",
       "      <td>2</td>\n",
       "      <td>CellTypeC</td>\n",
       "    </tr>\n",
       "    <tr>\n",
       "      <th>773546</th>\n",
       "      <td>Gene7473</td>\n",
       "      <td>0.000000</td>\n",
       "      <td>49</td>\n",
       "      <td>2</td>\n",
       "      <td>CellTypeC</td>\n",
       "    </tr>\n",
       "    <tr>\n",
       "      <th>773547</th>\n",
       "      <td>Gene6086</td>\n",
       "      <td>0.000000</td>\n",
       "      <td>49</td>\n",
       "      <td>2</td>\n",
       "      <td>CellTypeC</td>\n",
       "    </tr>\n",
       "    <tr>\n",
       "      <th>773548</th>\n",
       "      <td>Gene4094</td>\n",
       "      <td>0.000000</td>\n",
       "      <td>49</td>\n",
       "      <td>2</td>\n",
       "      <td>CellTypeC</td>\n",
       "    </tr>\n",
       "    <tr>\n",
       "      <th>773549</th>\n",
       "      <td>Gene9193</td>\n",
       "      <td>0.000000</td>\n",
       "      <td>49</td>\n",
       "      <td>2</td>\n",
       "      <td>CellTypeC</td>\n",
       "    </tr>\n",
       "  </tbody>\n",
       "</table>\n",
       "<p>773550 rows × 5 columns</p>\n",
       "</div>"
      ],
      "text/plain": [
       "            genes  feature_importances  subsample_idx  fold  cell_type\n",
       "0        Gene7100             0.000000              0     0  CellTypeA\n",
       "1       Gene14122             0.000000              0     0  CellTypeA\n",
       "2        Gene7758             0.000000              0     0  CellTypeA\n",
       "3         Gene719             0.001818              0     0  CellTypeA\n",
       "4        Gene4787             0.000000              0     0  CellTypeA\n",
       "...           ...                  ...            ...   ...        ...\n",
       "773545  Gene11797             0.000000             49     2  CellTypeC\n",
       "773546   Gene7473             0.000000             49     2  CellTypeC\n",
       "773547   Gene6086             0.000000             49     2  CellTypeC\n",
       "773548   Gene4094             0.000000             49     2  CellTypeC\n",
       "773549   Gene9193             0.000000             49     2  CellTypeC\n",
       "\n",
       "[773550 rows x 5 columns]"
      ]
     },
     "execution_count": 8,
     "metadata": {},
     "output_type": "execute_result"
    }
   ],
   "source": [
    "results['feature_importances']"
   ]
  },
  {
   "cell_type": "markdown",
   "metadata": {},
   "source": [
    "### Differential Prioritization\n",
    "\n",
    "Augurpy is also able to perform differential prioritization and executes a permutation test ot identify cell types with statistically significant differences in AUC between two different rounds of cell type prioritization (eg. response to drugs A and B, compared to untreated control). \n",
    "\n",
    "In the following data, `withdraw_15d_Cocaine` and `withdraw_48h_Cocaine` will be compared with repsect to the difference to `Maintenance_Cocaine`."
   ]
  },
  {
   "cell_type": "code",
   "execution_count": 9,
   "metadata": {
    "scrolled": true
   },
   "outputs": [],
   "source": [
    "# Load data and classifier\n",
    "bhattacher_adata = sc.read_h5ad(\"../data/bhattacher.h5ad\")\n",
    "random_forest = augurpy.estimator.create_estimator(\"random_forest_classifier\")"
   ]
  },
  {
   "cell_type": "markdown",
   "metadata": {},
   "source": [
    "For this we first run Augur on `Maintenance_Cocaine` and `withdraw_15d_Cocaine` in `augur_mode`=`default`  and `augur_mode`=`permute` mode. "
   ]
  },
  {
   "cell_type": "code",
   "execution_count": 10,
   "metadata": {},
   "outputs": [
    {
     "data": {
      "text/html": [
       "<pre style=\"white-space:pre;overflow-x:auto;line-height:normal;font-family:Menlo,'DejaVu Sans Mono',consolas,'Courier New',monospace\"><span style=\"color: #808000; text-decoration-color: #808000; font-weight: bold\">Data not normalized. Normalizing now using scanpy log1p normalize.</span>\n",
       "</pre>\n"
      ],
      "text/plain": [
       "\u001b[1;33mData not normalized. Normalizing now using scanpy log1p normalize.\u001b[0m\n"
      ]
     },
     "metadata": {},
     "output_type": "display_data"
    },
    {
     "data": {
      "text/html": [
       "<pre style=\"white-space:pre;overflow-x:auto;line-height:normal;font-family:Menlo,'DejaVu Sans Mono',consolas,'Courier New',monospace\">Filtering samples with Maintenance_Cocaine and withdraw_15d_Cocaine labels.\n",
       "</pre>\n"
      ],
      "text/plain": [
       "Filtering samples with Maintenance_Cocaine and withdraw_15d_Cocaine labels.\n"
      ]
     },
     "metadata": {},
     "output_type": "display_data"
    },
    {
     "data": {
      "application/vnd.jupyter.widget-view+json": {
       "model_id": "314c5e4cf5f149c59d0be7deb4f5ca62",
       "version_major": 2,
       "version_minor": 0
      },
      "text/plain": [
       "Output()"
      ]
     },
     "metadata": {},
     "output_type": "display_data"
    },
    {
     "data": {
      "text/html": [
       "<pre style=\"white-space:pre;overflow-x:auto;line-height:normal;font-family:Menlo,'DejaVu Sans Mono',consolas,'Courier New',monospace\"></pre>\n"
      ],
      "text/plain": []
     },
     "metadata": {},
     "output_type": "display_data"
    },
    {
     "data": {
      "text/html": [
       "<pre style=\"white-space:pre;overflow-x:auto;line-height:normal;font-family:Menlo,'DejaVu Sans Mono',consolas,'Courier New',monospace\">\n",
       "</pre>\n"
      ],
      "text/plain": [
       "\n"
      ]
     },
     "metadata": {},
     "output_type": "display_data"
    },
    {
     "name": "stdout",
     "output_type": "stream",
     "text": [
      "Astro         0.949853\n",
      "OPC           0.903503\n",
      "Microglia     0.890986\n",
      "Oligo         0.889195\n",
      "Endo          0.816757\n",
      "Excitatory    0.740726\n",
      "NF Oligo      0.739308\n",
      "Inhibitory    0.736599\n",
      "Name: mean_augur_score, dtype: float64\n"
     ]
    }
   ],
   "source": [
    "# default\n",
    "bhattacher_A = augurpy.read_load.load(bhattacher_adata, \n",
    "                                     condition_label='Maintenance_Cocaine', \n",
    "                                     treatment_label='withdraw_15d_Cocaine')\n",
    "\n",
    "bhattacher_adata_A, bhattacher_results_A = augurpy.evaluate.predict(bhattacher_A, \n",
    "                                                                  n_threads=1, \n",
    "                                                                  classifier=random_forest, \n",
    "                                                                  random_state=None)\n",
    "\n",
    "print(bhattacher_results_A['summary_metrics'].loc['mean_augur_score'].sort_values(ascending=False))"
   ]
  },
  {
   "cell_type": "code",
   "execution_count": 11,
   "metadata": {
    "scrolled": false
   },
   "outputs": [
    {
     "data": {
      "application/vnd.jupyter.widget-view+json": {
       "model_id": "81814e0ba8c34d7db62c20ec98802a17",
       "version_major": 2,
       "version_minor": 0
      },
      "text/plain": [
       "Output()"
      ]
     },
     "metadata": {},
     "output_type": "display_data"
    },
    {
     "data": {
      "text/html": [
       "<pre style=\"white-space:pre;overflow-x:auto;line-height:normal;font-family:Menlo,'DejaVu Sans Mono',consolas,'Courier New',monospace\"></pre>\n"
      ],
      "text/plain": []
     },
     "metadata": {},
     "output_type": "display_data"
    },
    {
     "data": {
      "text/html": [
       "<pre style=\"white-space:pre;overflow-x:auto;line-height:normal;font-family:Menlo,'DejaVu Sans Mono',consolas,'Courier New',monospace\">\n",
       "</pre>\n"
      ],
      "text/plain": [
       "\n"
      ]
     },
     "metadata": {},
     "output_type": "display_data"
    }
   ],
   "source": [
    "# permute\n",
    "bhattacher_adata_A_permute, bhattacher_results_A_permute = augurpy.evaluate.predict(bhattacher_A,\n",
    "                                                                                  n_threads=4,\n",
    "                                                                                  augur_mode='permute',\n",
    "                                                                                  classifier=random_forest,\n",
    "                                                                                    n_subsamples = 100,\n",
    "                                                                                  random_state=None)"
   ]
  },
  {
   "cell_type": "markdown",
   "metadata": {},
   "source": [
    "Now lets do the same looking at `Maintenance_Cocaine` and `withdraw_48h_Cocaine`."
   ]
  },
  {
   "cell_type": "code",
   "execution_count": 12,
   "metadata": {},
   "outputs": [
    {
     "data": {
      "text/html": [
       "<pre style=\"white-space:pre;overflow-x:auto;line-height:normal;font-family:Menlo,'DejaVu Sans Mono',consolas,'Courier New',monospace\">Filtering samples with Maintenance_Cocaine and withdraw_48h_Cocaine labels.\n",
       "</pre>\n"
      ],
      "text/plain": [
       "Filtering samples with Maintenance_Cocaine and withdraw_48h_Cocaine labels.\n"
      ]
     },
     "metadata": {},
     "output_type": "display_data"
    },
    {
     "data": {
      "application/vnd.jupyter.widget-view+json": {
       "model_id": "5c898796da95497c841959735526ae08",
       "version_major": 2,
       "version_minor": 0
      },
      "text/plain": [
       "Output()"
      ]
     },
     "metadata": {},
     "output_type": "display_data"
    },
    {
     "data": {
      "text/html": [
       "<pre style=\"white-space:pre;overflow-x:auto;line-height:normal;font-family:Menlo,'DejaVu Sans Mono',consolas,'Courier New',monospace\"></pre>\n"
      ],
      "text/plain": []
     },
     "metadata": {},
     "output_type": "display_data"
    },
    {
     "data": {
      "text/html": [
       "<pre style=\"white-space:pre;overflow-x:auto;line-height:normal;font-family:Menlo,'DejaVu Sans Mono',consolas,'Courier New',monospace\">\n",
       "</pre>\n"
      ],
      "text/plain": [
       "\n"
      ]
     },
     "metadata": {},
     "output_type": "display_data"
    },
    {
     "name": "stdout",
     "output_type": "stream",
     "text": [
      "Microglia     0.738288\n",
      "Astro         0.719229\n",
      "Inhibitory    0.692460\n",
      "Oligo         0.659943\n",
      "OPC           0.645431\n",
      "Endo          0.625839\n",
      "NF Oligo      0.573946\n",
      "Excitatory    0.556848\n",
      "Name: mean_augur_score, dtype: float64\n"
     ]
    }
   ],
   "source": [
    "# default\n",
    "bhattacher_B = augurpy.read_load.load(bhattacher_adata, \n",
    "                                     condition_label='Maintenance_Cocaine', \n",
    "                                     treatment_label='withdraw_48h_Cocaine')\n",
    "\n",
    "bhattacher_adata_B, bhattacher_results_B = augurpy.evaluate.predict(bhattacher_B, \n",
    "                                                                    n_threads=1,\n",
    "                                                                    classifier=random_forest,\n",
    "                                                                    random_state=None)\n",
    "\n",
    "print(bhattacher_results_B['summary_metrics'].loc['mean_augur_score'].sort_values(ascending=False))"
   ]
  },
  {
   "cell_type": "code",
   "execution_count": 13,
   "metadata": {
    "scrolled": false
   },
   "outputs": [
    {
     "data": {
      "application/vnd.jupyter.widget-view+json": {
       "model_id": "0986a1cbc9fb45fb815b69779d98f662",
       "version_major": 2,
       "version_minor": 0
      },
      "text/plain": [
       "Output()"
      ]
     },
     "metadata": {},
     "output_type": "display_data"
    },
    {
     "data": {
      "text/html": [
       "<pre style=\"white-space:pre;overflow-x:auto;line-height:normal;font-family:Menlo,'DejaVu Sans Mono',consolas,'Courier New',monospace\">[bold red]Skipping NF Oligo cell type - 79 samples is less than min_cells 100.\n",
       "</pre>\n"
      ],
      "text/plain": [
       "[bold red]Skipping NF Oligo cell type - 79 samples is less than min_cells 100.\n"
      ]
     },
     "metadata": {},
     "output_type": "display_data"
    },
    {
     "data": {
      "text/html": [
       "<pre style=\"white-space:pre;overflow-x:auto;line-height:normal;font-family:Menlo,'DejaVu Sans Mono',consolas,'Courier New',monospace\"></pre>\n"
      ],
      "text/plain": []
     },
     "metadata": {},
     "output_type": "display_data"
    },
    {
     "data": {
      "text/html": [
       "<pre style=\"white-space:pre;overflow-x:auto;line-height:normal;font-family:Menlo,'DejaVu Sans Mono',consolas,'Courier New',monospace\">\n",
       "</pre>\n"
      ],
      "text/plain": [
       "\n"
      ]
     },
     "metadata": {},
     "output_type": "display_data"
    }
   ],
   "source": [
    "# permute\n",
    "bhattacher_adata_B_permute, bhattacher_results_B_permute = augurpy.evaluate.predict(bhattacher_B,\n",
    "                                                                                  n_threads=4,\n",
    "                                                                                  augur_mode='permute',\n",
    "                                                                                  classifier=random_forest,\n",
    "                                                                                    n_subsamples = 100,\n",
    "                                                                                  random_state=None)"
   ]
  },
  {
   "cell_type": "markdown",
   "metadata": {},
   "source": [
    "Lets also take a look at the augur scores of the two versions in a scatterplot.\n",
    "\n",
    "The diagonal line is the identity function. If the values were the same they would be on the line. "
   ]
  },
  {
   "cell_type": "code",
   "execution_count": 14,
   "metadata": {
    "scrolled": true
   },
   "outputs": [
    {
     "data": {
      "image/png": "[encoded data removed]",
      "text/plain": [
       "<Figure size 432x288 with 1 Axes>"
      ]
     },
     "metadata": {
      "needs_background": "light"
     },
     "output_type": "display_data"
    }
   ],
   "source": [
    "augurpy.plotting.scatterplot.plot_scatterplot(bhattacher_results_A, bhattacher_results_B)"
   ]
  },
  {
   "cell_type": "markdown",
   "metadata": {},
   "source": [
    "To figure out which cell type was most affected in comparing `withdraw_48h_Cocaine` and `withdraw_15d_Cocaine` we can run differential prioritization."
   ]
  },
  {
   "cell_type": "code",
   "execution_count": 15,
   "metadata": {},
   "outputs": [],
   "source": [
    "import augurpy.differential_prioritization"
   ]
  },
  {
   "cell_type": "code",
   "execution_count": 16,
   "metadata": {
    "scrolled": true
   },
   "outputs": [],
   "source": [
    "pvals = augurpy.differential_prioritization.predict_differential_prioritization(augur_results1=bhattacher_results_A,\n",
    "                                                                               augur_results2=bhattacher_results_B,\n",
    "                                                                               permuted_results1=bhattacher_results_A_permute,\n",
    "                                                                               permuted_results2=bhattacher_results_B_permute)"
   ]
  },
  {
   "cell_type": "code",
   "execution_count": 17,
   "metadata": {
    "scrolled": true
   },
   "outputs": [
    {
     "data": {
      "text/html": [
       "<div>\n",
       "<style scoped>\n",
       "    .dataframe tbody tr th:only-of-type {\n",
       "        vertical-align: middle;\n",
       "    }\n",
       "\n",
       "    .dataframe tbody tr th {\n",
       "        vertical-align: top;\n",
       "    }\n",
       "\n",
       "    .dataframe thead th {\n",
       "        text-align: right;\n",
       "    }\n",
       "</style>\n",
       "<table border=\"1\" class=\"dataframe\">\n",
       "  <thead>\n",
       "    <tr style=\"text-align: right;\">\n",
       "      <th></th>\n",
       "      <th>cell_type</th>\n",
       "      <th>mean_augur_score1</th>\n",
       "      <th>mean_augur_score2</th>\n",
       "      <th>delta_augur</th>\n",
       "      <th>b</th>\n",
       "      <th>m</th>\n",
       "      <th>z</th>\n",
       "      <th>pval</th>\n",
       "      <th>padj</th>\n",
       "    </tr>\n",
       "  </thead>\n",
       "  <tbody>\n",
       "    <tr>\n",
       "      <th>0</th>\n",
       "      <td>Endo</td>\n",
       "      <td>0.816757</td>\n",
       "      <td>0.625839</td>\n",
       "      <td>-0.190918</td>\n",
       "      <td>674</td>\n",
       "      <td>1000</td>\n",
       "      <td>2.975255</td>\n",
       "      <td>0.653347</td>\n",
       "      <td>0.913087</td>\n",
       "    </tr>\n",
       "    <tr>\n",
       "      <th>1</th>\n",
       "      <td>Astro</td>\n",
       "      <td>0.949853</td>\n",
       "      <td>0.719229</td>\n",
       "      <td>-0.230624</td>\n",
       "      <td>456</td>\n",
       "      <td>1000</td>\n",
       "      <td>-2.687116</td>\n",
       "      <td>0.913087</td>\n",
       "      <td>0.913087</td>\n",
       "    </tr>\n",
       "    <tr>\n",
       "      <th>2</th>\n",
       "      <td>Oligo</td>\n",
       "      <td>0.889195</td>\n",
       "      <td>0.659943</td>\n",
       "      <td>-0.229252</td>\n",
       "      <td>419</td>\n",
       "      <td>1000</td>\n",
       "      <td>-2.629701</td>\n",
       "      <td>0.839161</td>\n",
       "      <td>0.913087</td>\n",
       "    </tr>\n",
       "    <tr>\n",
       "      <th>3</th>\n",
       "      <td>Excitatory</td>\n",
       "      <td>0.740726</td>\n",
       "      <td>0.556848</td>\n",
       "      <td>-0.183878</td>\n",
       "      <td>862</td>\n",
       "      <td>1000</td>\n",
       "      <td>-10.931720</td>\n",
       "      <td>0.277722</td>\n",
       "      <td>0.913087</td>\n",
       "    </tr>\n",
       "    <tr>\n",
       "      <th>4</th>\n",
       "      <td>OPC</td>\n",
       "      <td>0.903503</td>\n",
       "      <td>0.645431</td>\n",
       "      <td>-0.258073</td>\n",
       "      <td>646</td>\n",
       "      <td>1000</td>\n",
       "      <td>-8.156192</td>\n",
       "      <td>0.709291</td>\n",
       "      <td>0.913087</td>\n",
       "    </tr>\n",
       "    <tr>\n",
       "      <th>5</th>\n",
       "      <td>Inhibitory</td>\n",
       "      <td>0.736599</td>\n",
       "      <td>0.692460</td>\n",
       "      <td>-0.044138</td>\n",
       "      <td>748</td>\n",
       "      <td>1000</td>\n",
       "      <td>16.298981</td>\n",
       "      <td>0.505495</td>\n",
       "      <td>0.913087</td>\n",
       "    </tr>\n",
       "    <tr>\n",
       "      <th>6</th>\n",
       "      <td>Microglia</td>\n",
       "      <td>0.890986</td>\n",
       "      <td>0.738288</td>\n",
       "      <td>-0.152698</td>\n",
       "      <td>96</td>\n",
       "      <td>1000</td>\n",
       "      <td>8.390574</td>\n",
       "      <td>0.193806</td>\n",
       "      <td>0.913087</td>\n",
       "    </tr>\n",
       "  </tbody>\n",
       "</table>\n",
       "</div>"
      ],
      "text/plain": [
       "    cell_type  mean_augur_score1  mean_augur_score2  delta_augur    b     m  \\\n",
       "0        Endo           0.816757           0.625839    -0.190918  674  1000   \n",
       "1       Astro           0.949853           0.719229    -0.230624  456  1000   \n",
       "2       Oligo           0.889195           0.659943    -0.229252  419  1000   \n",
       "3  Excitatory           0.740726           0.556848    -0.183878  862  1000   \n",
       "4         OPC           0.903503           0.645431    -0.258073  646  1000   \n",
       "5  Inhibitory           0.736599           0.692460    -0.044138  748  1000   \n",
       "6   Microglia           0.890986           0.738288    -0.152698   96  1000   \n",
       "\n",
       "           z      pval      padj  \n",
       "0   2.975255  0.653347  0.913087  \n",
       "1  -2.687116  0.913087  0.913087  \n",
       "2  -2.629701  0.839161  0.913087  \n",
       "3 -10.931720  0.277722  0.913087  \n",
       "4  -8.156192  0.709291  0.913087  \n",
       "5  16.298981  0.505495  0.913087  \n",
       "6   8.390574  0.193806  0.913087  "
      ]
     },
     "execution_count": 17,
     "metadata": {},
     "output_type": "execute_result"
    }
   ],
   "source": [
    "pvals"
   ]
  },
  {
   "cell_type": "code",
   "execution_count": 18,
   "metadata": {},
   "outputs": [
    {
     "data": {
      "image/png": "[encoded data removed]",
      "text/plain": [
       "<Figure size 432x288 with 1 Axes>"
      ]
     },
     "metadata": {
      "needs_background": "light"
     },
     "output_type": "display_data"
    }
   ],
   "source": [
    "augurpy.plotting.differential_prioritization.plot_differential_prioritization(pvals)"
   ]
  },
  {
   "cell_type": "markdown",
   "metadata": {},
   "source": [
    "In this case the cell type Microglia has the lowest p-value, meaning that in comparing the impact of `withdraw_48h_Cocaine` and `withdraw_15d_Cocaine`, this cell type was most impacted. "
   ]
  }
 ],
 "metadata": {
  "interpreter": {
   "hash": "a24c21ce9f55a051e125ae55b4380093d8f4a9785cb7fd33812a3a228a0c8b4c"
  },
  "kernelspec": {
   "display_name": "Python 3 (ipykernel)",
   "language": "python",
   "name": "python3"
  },
  "language_info": {
   "codemirror_mode": {
    "name": "ipython",
    "version": 3
   },
   "file_extension": ".py",
   "mimetype": "text/x-python",
   "name": "python",
   "nbconvert_exporter": "python",
   "pygments_lexer": "ipython3",
   "version": "3.8.12"
  }
 },
 "nbformat": 4,
 "nbformat_minor": 2
}
